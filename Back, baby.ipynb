{
 "cells": [
  {
   "cell_type": "code",
   "execution_count": 1,
   "metadata": {},
   "outputs": [],
   "source": [
    "import networkx as nx\n",
    "import numpy as np\n",
    "import pandas as pd\n",
    "import json\n",
    "import os\n",
    "import matplotlib.pyplot as plt\n",
    "from ipywidgets import FloatProgress\n",
    "from IPython.display import display\n",
    "from osgeo import gdal, ogr\n",
    "\n",
    "%matplotlib inline"
   ]
  },
  {
   "cell_type": "code",
   "execution_count": 2,
   "metadata": {},
   "outputs": [
    {
     "data": {
      "text/plain": [
       "['London map trial.ipynb',\n",
       " 'Map Go.ipynb',\n",
       " 'London map trial-Copy1.ipynb',\n",
       " 'merged.csv',\n",
       " 'photos_nearby.csv',\n",
       " 'Folium.ipynb',\n",
       " 'gmaps_nearby.csv',\n",
       " 'Documenting Code.ipynb',\n",
       " 'Instagram+Google_Modified.ipynb',\n",
       " '2017-01-08-city-of-london-street_ScoreTesting.csv',\n",
       " 'Simple Routing App-Copy1.ipynb',\n",
       " 'Untitled.ipynb',\n",
       " 'test_multiprocessing.ipynb',\n",
       " 'working_routing_code.ipynb',\n",
       " 'map_network.ipynb',\n",
       " 'experimenting.ipynb',\n",
       " 'Cityof London+Metropolitan_Aug-Sept2017_Score.csv',\n",
       " 'Simple Routing App-Copy2.ipynb',\n",
       " 'poi.csv',\n",
       " 'POI-Holidays.csv',\n",
       " 'tl_2013_06_prisecroads.shx',\n",
       " 'final_info.csv',\n",
       " 'Threading.ipynb',\n",
       " 'networkx_test.py',\n",
       " 'tl_2013_06_prisecroads.shp',\n",
       " 'pathpointstb2.csv',\n",
       " 'dinda-map-test.ipynb',\n",
       " 'gis_osm_roads_free_1.dbf',\n",
       " 'Simple Routing App.ipynb',\n",
       " 'combined_routingcode_gmaps.ipynb',\n",
       " 'test_multiprocessing-Copy1.ipynb',\n",
       " 'Untitled-checkpoint.ipynb',\n",
       " '.ipynb_checkpoints',\n",
       " 'gis_osm_roads_free_1.shx',\n",
       " 'gis_osm_roads_free_1.shp',\n",
       " 'merged1.csv',\n",
       " 'point_of_interest.ipynb',\n",
       " 'TB_Testing.ipynb']"
      ]
     },
     "execution_count": 2,
     "metadata": {},
     "output_type": "execute_result"
    }
   ],
   "source": [
    "os.listdir(os.path.join('..','MyFiles','Education','Mosey Project Docs'))"
   ]
  },
  {
   "cell_type": "code",
   "execution_count": 3,
   "metadata": {},
   "outputs": [],
   "source": [
    "# Get POI/Crime Data"
   ]
  },
  {
   "cell_type": "code",
   "execution_count": 4,
   "metadata": {},
   "outputs": [
    {
     "name": "stdout",
     "output_type": "stream",
     "text": [
      "Done\n",
      "(136311, 17)\n",
      "(3425, 17)\n"
     ]
    }
   ],
   "source": [
    "crime_df = pd.read_csv(os.path.join('..','MyFiles','Education','Mosey Project Docs','Cityof London+Metropolitan_Aug-Sept2017_Score.csv'))\n",
    "crime_df2 = pd.read_csv(os.path.join('..','MyFiles','Education','Mosey Project Docs','2017-01-08-city-of-london-street_ScoreTesting.csv'))\n",
    "print('Done')\n",
    "print(crime_df.shape)\n",
    "print(crime_df2.shape)"
   ]
  },
  {
   "cell_type": "code",
   "execution_count": 5,
   "metadata": {},
   "outputs": [],
   "source": [
    "poi_df = pd.read_csv(os.path.join('..','MyFiles','Education','Mosey Project Docs','POI-Holidays.csv'))"
   ]
  },
  {
   "cell_type": "code",
   "execution_count": 6,
   "metadata": {},
   "outputs": [],
   "source": [
    "g = nx.read_shp(os.path.join('..','MyFiles','Education','Mosey Project Docs',\"gis_osm_roads_free_1.shp\"))\n"
   ]
  },
  {
   "cell_type": "code",
   "execution_count": 7,
   "metadata": {},
   "outputs": [],
   "source": [
    "def connected_component_subgraphs(G):\n",
    "    for c in nx.connected_components(G):\n",
    "        yield G.subgraph(c)"
   ]
  },
  {
   "cell_type": "code",
   "execution_count": 8,
   "metadata": {},
   "outputs": [
    {
     "name": "stdout",
     "output_type": "stream",
     "text": [
      "connected g\n"
     ]
    }
   ],
   "source": [
    "sgs = list(connected_component_subgraphs(\n",
    "                   g.to_undirected()))\n",
    "print('connected g')"
   ]
  },
  {
   "cell_type": "code",
   "execution_count": 9,
   "metadata": {},
   "outputs": [
    {
     "name": "stdout",
     "output_type": "stream",
     "text": [
      "found largest sg\n"
     ]
    }
   ],
   "source": [
    "largest = np.argmax([len(sg) \n",
    "                    for sg in sgs])\n",
    "print('found largest sg')\n",
    "sg = sgs[largest]"
   ]
  },
  {
   "cell_type": "code",
   "execution_count": 10,
   "metadata": {},
   "outputs": [
    {
     "data": {
      "text/plain": [
       "{'longitude': -0.3499169, 'latitude': 51.5751178}"
      ]
     },
     "execution_count": 10,
     "metadata": {},
     "output_type": "execute_result"
    }
   ],
   "source": [
    "for v in sg.edges():\n",
    "    \n",
    "    d = {'longitude':(v[0][0]),'latitude':v[0][1]}\n",
    "d"
   ]
  },
  {
   "cell_type": "code",
   "execution_count": 11,
   "metadata": {},
   "outputs": [],
   "source": [
    "#pos0 = (51.507554,-0.078958)\n",
    "#Southbank Center\n",
    "pos0 = (51.507028,-0.116392)\n",
    "#Angel Station\n",
    "pos1 = (51.532938,-0.105841)\n",
    "#Exmouth\n",
    "#pos1 = (51.525372,-0.110049)"
   ]
  },
  {
   "cell_type": "code",
   "execution_count": 12,
   "metadata": {},
   "outputs": [],
   "source": [
    "def get_path(n0, n1):\n",
    "    \"\"\"If n0 and n1 are connected nodes in the \n",
    "    graph, this function returns an array of point\n",
    "    coordinates along the road linking these two nodes.\"\"\"\n",
    "    return np.array(json.loads(\n",
    "                sg[n0][n1]['Json'])['coordinates'])"
   ]
  },
  {
   "cell_type": "code",
   "execution_count": 13,
   "metadata": {},
   "outputs": [],
   "source": [
    "EARTH_R = 6372.8\n",
    "def geocalc(lat0, lon0, lat1, lon1):\n",
    "    \"\"\"Return the distance (in km) between two\n",
    "    points in geographical coordinates.\"\"\"\n",
    "    lat0 = np.radians(lat0)\n",
    "    lon0 = np.radians(lon0)\n",
    "    lat1 = np.radians(lat1)\n",
    "    lon1 = np.radians(lon1)\n",
    "    dlon = lon0 - lon1\n",
    "    y = np.sqrt(\n",
    "            (np.cos(lat1)*np.sin(dlon))**2\n",
    "            +(np.cos(lat0)*np.sin(lat1) \n",
    "            -np.sin(lat0)*np.cos(lat1)* \\\n",
    "            np.cos(dlon))**2)\n",
    "    x = np.sin(lat0)*np.sin(lat1) + \\\n",
    "        np.cos(lat0)*np.cos(lat1)*np.cos(dlon)\n",
    "    c = np.arctan2(y, x)\n",
    "    return EARTH_R * c"
   ]
  },
  {
   "cell_type": "code",
   "execution_count": 14,
   "metadata": {},
   "outputs": [],
   "source": [
    "def get_path_length(path):\n",
    "    return np.sum(geocalc(\n",
    "                    path[1:,0], path[1:,1],\n",
    "                    path[:-1,0], path[:-1,1]))#change these two \n",
    "# to iterate over all crime incidents w/in X radius of edge first\n",
    "#two points.\n",
    "def get_crime_path_length(path,crime):\n",
    "    return np.sum(geocalc(\n",
    "                    path[1:,0], path[1:,1],\n",
    "                    path[:-1,0], path[:-1,1]))#change these two "
   ]
  },
  {
   "cell_type": "code",
   "execution_count": 15,
   "metadata": {},
   "outputs": [
    {
     "name": "stdout",
     "output_type": "stream",
     "text": [
      "Step 1 Done\n"
     ]
    }
   ],
   "source": [
    "for n0, n1 in sg.edges_iter():\n",
    "    path = get_path(n0, n1)\n",
    "    distance = get_path_length(path)\n",
    "    #print(distance)\n",
    "    sg.edge[n0][n1]['distance'] = distance\n",
    "#print(sg)\n",
    "print('Step 1 Done')"
   ]
  },
  {
   "cell_type": "code",
   "execution_count": 18,
   "metadata": {},
   "outputs": [
    {
     "data": {
      "application/vnd.jupyter.widget-view+json": {
       "model_id": "4f255714d56044238f284252963cca6a",
       "version_major": 2,
       "version_minor": 0
      },
      "text/plain": [
       "FloatProgress(value=0.0, max=60904.0)"
      ]
     },
     "metadata": {},
     "output_type": "display_data"
    },
    {
     "ename": "KeyboardInterrupt",
     "evalue": "",
     "output_type": "error",
     "traceback": [
      "\u001b[0;31m---------------------------------------------------------------------------\u001b[0m",
      "\u001b[0;31mKeyboardInterrupt\u001b[0m                         Traceback (most recent call last)",
      "\u001b[0;32m<ipython-input-18-733dcd118854>\u001b[0m in \u001b[0;36m<module>\u001b[0;34m\u001b[0m\n\u001b[1;32m      8\u001b[0m         cdistance+= geocalc(path[0,0],path[0,1],\n\u001b[1;32m      9\u001b[0m                             \u001b[0mcrime_df\u001b[0m\u001b[0;34m.\u001b[0m\u001b[0mat\u001b[0m\u001b[0;34m[\u001b[0m\u001b[0mi\u001b[0m\u001b[0;34m,\u001b[0m\u001b[0;34m'Latitude'\u001b[0m\u001b[0;34m]\u001b[0m\u001b[0;34m,\u001b[0m\u001b[0;34m\u001b[0m\u001b[0;34m\u001b[0m\u001b[0m\n\u001b[0;32m---> 10\u001b[0;31m                             crime_df.at[i,'Longitude'])\n\u001b[0m\u001b[1;32m     11\u001b[0m         +geocalc(path[:-1,0],path[:-1,1],\n\u001b[1;32m     12\u001b[0m                             \u001b[0mcrime_df\u001b[0m\u001b[0;34m.\u001b[0m\u001b[0mat\u001b[0m\u001b[0;34m[\u001b[0m\u001b[0mi\u001b[0m\u001b[0;34m,\u001b[0m\u001b[0;34m'Latitude'\u001b[0m\u001b[0;34m]\u001b[0m\u001b[0;34m,\u001b[0m\u001b[0;34m\u001b[0m\u001b[0;34m\u001b[0m\u001b[0m\n",
      "\u001b[0;32m<ipython-input-13-63b934ec8f7b>\u001b[0m in \u001b[0;36mgeocalc\u001b[0;34m(lat0, lon0, lat1, lon1)\u001b[0m\n\u001b[1;32m     15\u001b[0m     \u001b[0mx\u001b[0m \u001b[0;34m=\u001b[0m \u001b[0mnp\u001b[0m\u001b[0;34m.\u001b[0m\u001b[0msin\u001b[0m\u001b[0;34m(\u001b[0m\u001b[0mlat0\u001b[0m\u001b[0;34m)\u001b[0m\u001b[0;34m*\u001b[0m\u001b[0mnp\u001b[0m\u001b[0;34m.\u001b[0m\u001b[0msin\u001b[0m\u001b[0;34m(\u001b[0m\u001b[0mlat1\u001b[0m\u001b[0;34m)\u001b[0m \u001b[0;34m+\u001b[0m\u001b[0;31m \u001b[0m\u001b[0;31m\\\u001b[0m\u001b[0;34m\u001b[0m\u001b[0;34m\u001b[0m\u001b[0m\n\u001b[1;32m     16\u001b[0m         \u001b[0mnp\u001b[0m\u001b[0;34m.\u001b[0m\u001b[0mcos\u001b[0m\u001b[0;34m(\u001b[0m\u001b[0mlat0\u001b[0m\u001b[0;34m)\u001b[0m\u001b[0;34m*\u001b[0m\u001b[0mnp\u001b[0m\u001b[0;34m.\u001b[0m\u001b[0mcos\u001b[0m\u001b[0;34m(\u001b[0m\u001b[0mlat1\u001b[0m\u001b[0;34m)\u001b[0m\u001b[0;34m*\u001b[0m\u001b[0mnp\u001b[0m\u001b[0;34m.\u001b[0m\u001b[0mcos\u001b[0m\u001b[0;34m(\u001b[0m\u001b[0mdlon\u001b[0m\u001b[0;34m)\u001b[0m\u001b[0;34m\u001b[0m\u001b[0;34m\u001b[0m\u001b[0m\n\u001b[0;32m---> 17\u001b[0;31m     \u001b[0mc\u001b[0m \u001b[0;34m=\u001b[0m \u001b[0mnp\u001b[0m\u001b[0;34m.\u001b[0m\u001b[0marctan2\u001b[0m\u001b[0;34m(\u001b[0m\u001b[0my\u001b[0m\u001b[0;34m,\u001b[0m \u001b[0mx\u001b[0m\u001b[0;34m)\u001b[0m\u001b[0;34m\u001b[0m\u001b[0;34m\u001b[0m\u001b[0m\n\u001b[0m\u001b[1;32m     18\u001b[0m     \u001b[0;32mreturn\u001b[0m \u001b[0mEARTH_R\u001b[0m \u001b[0;34m*\u001b[0m \u001b[0mc\u001b[0m\u001b[0;34m\u001b[0m\u001b[0;34m\u001b[0m\u001b[0m\n",
      "\u001b[0;31mKeyboardInterrupt\u001b[0m: "
     ]
    }
   ],
   "source": [
    "f = FloatProgress(min=0, max=len(sg))\n",
    "display(f)\n",
    "for n0,n1 in sg.edges_iter():\n",
    "    f.value+=1\n",
    "    cdistance=0\n",
    "    path = get_path(n0,n1)\n",
    "    for i in range(round(len(crime_df)/10)):\n",
    "        cdistance+= geocalc(path[0,0],path[0,1],\n",
    "                            crime_df.at[i,'Latitude'],\n",
    "                            crime_df.at[i,'Longitude'])\n",
    "        +geocalc(path[:-1,0],path[:-1,1],\n",
    "                            crime_df.at[i,'Latitude'],\n",
    "                            crime_df.at[i,'Longitude'])\n",
    "        +float(crime_df.at[i,'Final Score 2'])\n",
    "    sg.edge[n0][n1]['Crime_Weight']=cdistance\n",
    "                                      \n",
    "print('Step 2 done')"
   ]
  },
  {
   "cell_type": "code",
   "execution_count": null,
   "metadata": {},
   "outputs": [],
   "source": [
    "for n0,n1 in sg.edges_iter():\n",
    "    cdistance=0\n",
    "    #print(n0)\n",
    "    #print(n1)\n",
    "    path = get_path(n0,n1)\n",
    "    #print(path)\n",
    "    for i in range(len(poi_df)):\n",
    "        cdistance+= geocalc(path[:-1,0],path[:-1,1],\n",
    "                            poi_df.at[i,'latitude'],\n",
    "                            poi_df.at[i,'longitude'])\n",
    "        #+ geocalc(path[1,0],path[1,-1],\n",
    "        #         poi_df.at[i,'latitude'],\n",
    "        #                    poi_df.at[i,'longitude'])\n",
    "    sg.edge[n0][n1]['POI_Weight']=np.sum(cdistance)\n",
    "                                      \n",
    "print('Step 3 done')"
   ]
  },
  {
   "cell_type": "code",
   "execution_count": null,
   "metadata": {},
   "outputs": [],
   "source": [
    "nodes = np.array(sg.nodes())\n",
    "#print(len(nodes))\n",
    "#print(nodes)\n",
    "# Get the closest nodes in the graph.\n",
    "#print(nodes[:,::-1])\n",
    "pos0_i = np.argmin(np.sum(\n",
    "                    (nodes[:,::-1] - pos0)**2,\n",
    "                     axis=1))\n",
    "#print(\"pos0_i=\"+str(pos0_i))\n",
    "#print(pos0)\n",
    "#print(nodes[pos0_i])\n",
    "pos1_i = np.argmin(np.sum(\n",
    "                        (nodes[:,::-1] - pos1)**2,\n",
    "                         axis=1))\n",
    "#print(pos1_i)\n",
    "#print(pos1)\n",
    "#print(nodes[pos1_i])"
   ]
  },
  {
   "cell_type": "code",
   "execution_count": null,
   "metadata": {},
   "outputs": [],
   "source": [
    "path = nx.shortest_path(sg, \n",
    "            source=tuple(nodes[pos0_i]), \n",
    "            target=tuple(nodes[pos1_i]),\n",
    "            weight='Crime_Weight')\n",
    "len(path)\n",
    "print(type(path))\n",
    "print(path)"
   ]
  },
  {
   "cell_type": "code",
   "execution_count": null,
   "metadata": {},
   "outputs": [],
   "source": [
    "path2 = nx.shortest_path(sg, \n",
    "            source=tuple(nodes[pos0_i]), \n",
    "            target=tuple(nodes[pos1_i]),\n",
    "            weight='POI_Weight')\n",
    "len(path2)\n",
    "print(type(path2))\n",
    "print(path2)"
   ]
  },
  {
   "cell_type": "code",
   "execution_count": null,
   "metadata": {},
   "outputs": [],
   "source": [
    "i = 1\n",
    "endlist = []\n",
    "for tup in path2:\n",
    "    pair = list(tup)\n",
    "    pair.insert(0,i)\n",
    "    i+=1\n",
    "    endlist.append(pair)\n",
    "print(endlist)\n",
    "df = pd.DataFrame(endlist, columns=[\"path\",\"longitude\", \"latitude\"] )\n",
    "df.to_csv('pathpointstb2.csv', index=False)"
   ]
  },
  {
   "cell_type": "code",
   "execution_count": null,
   "metadata": {},
   "outputs": [],
   "source": []
  },
  {
   "cell_type": "code",
   "execution_count": null,
   "metadata": {},
   "outputs": [],
   "source": []
  }
 ],
 "metadata": {
  "kernelspec": {
   "display_name": "Python 3",
   "language": "python",
   "name": "python3"
  },
  "language_info": {
   "codemirror_mode": {
    "name": "ipython",
    "version": 3
   },
   "file_extension": ".py",
   "mimetype": "text/x-python",
   "name": "python",
   "nbconvert_exporter": "python",
   "pygments_lexer": "ipython3",
   "version": "3.7.3"
  }
 },
 "nbformat": 4,
 "nbformat_minor": 4
}
